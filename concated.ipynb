{
 "cells": [
  {
   "cell_type": "code",
   "execution_count": 1,
   "metadata": {},
   "outputs": [
    {
     "name": "stderr",
     "output_type": "stream",
     "text": [
      "[nltk_data] Downloading package punkt to\n",
      "[nltk_data]     C:\\Users\\nimes\\AppData\\Roaming\\nltk_data...\n",
      "[nltk_data]   Package punkt is already up-to-date!\n",
      "[nltk_data] Downloading package stopwords to\n",
      "[nltk_data]     C:\\Users\\nimes\\AppData\\Roaming\\nltk_data...\n",
      "[nltk_data]   Package stopwords is already up-to-date!\n"
     ]
    }
   ],
   "source": [
    "import pandas as pd\n",
    "import numpy as np\n",
    "import matplotlib.pyplot as plt\n",
    "import seaborn as sns\n",
    "import itertools\n",
    "import collections\n",
    "import re\n",
    "import networkx as nx\n",
    "\n",
    "import nltk\n",
    "nltk.download(['punkt','stopwords'])\n",
    "from nltk.corpus import stopwords\n",
    "stopwords = stopwords.words('english')\n",
    "from nltk import bigrams\n",
    "\n",
    "import warnings\n",
    "warnings.filterwarnings(\"ignore\")\n",
    "\n",
    "%matplotlib inline\n",
    "sns.set(font_scale=1.5)\n",
    "sns.set_style(\"whitegrid\")\n",
    "from vaderSentiment.vaderSentiment import SentimentIntensityAnalyzer\n",
    "analyzer = SentimentIntensityAnalyzer()\n",
    "%config InlineBackend.figure_format = 'retina'"
   ]
  },
  {
   "cell_type": "code",
   "execution_count": null,
   "metadata": {},
   "outputs": [],
   "source": []
  },
  {
   "cell_type": "code",
   "execution_count": 2,
   "metadata": {},
   "outputs": [],
   "source": [
    "pd.read_csv('E:/Project 5 credits/new/Sri Lanka/depressive_unigram_tweets_final.csv')\n",
    "df2 = pd.read_csv('E:/Project 5 credits/new/Sri Lanka/depressive_unigram_tweets_final.csv')"
   ]
  },
  {
   "cell_type": "code",
   "execution_count": 3,
   "metadata": {},
   "outputs": [
    {
     "data": {
      "text/plain": [
       "True"
      ]
     },
     "execution_count": 3,
     "metadata": {},
     "output_type": "execute_result"
    }
   ],
   "source": [
    "df2.isnull().any().any()"
   ]
  },
  {
   "cell_type": "code",
   "execution_count": 4,
   "metadata": {},
   "outputs": [
    {
     "name": "stdout",
     "output_type": "stream",
     "text": [
      "<class 'pandas.core.frame.DataFrame'>\n",
      "RangeIndex: 1513 entries, 0 to 1512\n",
      "Data columns (total 16 columns):\n",
      " #   Column        Non-Null Count  Dtype  \n",
      "---  ------        --------------  -----  \n",
      " 0   Unnamed: 0    1513 non-null   int64  \n",
      " 1   id            1513 non-null   int64  \n",
      " 2   time          1513 non-null   object \n",
      " 3   tweet         1513 non-null   object \n",
      " 4   language      1513 non-null   object \n",
      " 5   hashtags      1513 non-null   object \n",
      " 6   cashtags      1513 non-null   object \n",
      " 7   thumbnail     351 non-null    object \n",
      " 8   source        0 non-null      float64\n",
      " 9   user_rt       0 non-null      float64\n",
      " 10  retweet_id    0 non-null      float64\n",
      " 11  reply_to      1513 non-null   object \n",
      " 12  retweet_date  0 non-null      float64\n",
      " 13  translate     0 non-null      float64\n",
      " 14  trans_src     0 non-null      float64\n",
      " 15  trans_dest    0 non-null      float64\n",
      "dtypes: float64(7), int64(2), object(7)\n",
      "memory usage: 189.2+ KB\n"
     ]
    }
   ],
   "source": [
    "df2.info(null_counts=True)"
   ]
  },
  {
   "cell_type": "code",
   "execution_count": null,
   "metadata": {},
   "outputs": [],
   "source": []
  },
  {
   "cell_type": "code",
   "execution_count": 5,
   "metadata": {},
   "outputs": [
    {
     "name": "stdout",
     "output_type": "stream",
     "text": [
      "      Unnamed: 0                   id      time  \\\n",
      "0              0  1314463232799563776  12:40:30   \n",
      "1              1  1240137433057984512  10:16:19   \n",
      "2              2  1238694003874422784  10:40:39   \n",
      "3              3  1226173869117071360  21:30:06   \n",
      "4              4   566255648091152384  20:50:41   \n",
      "...          ...                  ...       ...   \n",
      "1508        1704  1351727432919781379  08:35:08   \n",
      "1509        1707  1351545641999060993  20:32:46   \n",
      "1510        1708  1351542740039856129  20:21:14   \n",
      "1511        1709  1351537459234893824  20:00:15   \n",
      "1512        1715  1316032629259431936  20:36:44   \n",
      "\n",
      "                                                  tweet language  \\\n",
      "0     Corona season comming soon!!!!! @ Union Place ...       en   \n",
      "1     Corona Holidays be like 👀  https://t.co/mBo1FY...       en   \n",
      "2     The_beginning_of_corona_vacation ;-) 😁 On_the_...       en   \n",
      "3     අවදානමට පෙර සූදානම 😔 #Coronavius #corona #lka ...       si   \n",
      "4     Drinking Corona! Hell Yeah! #Corona #FeelingGr...       en   \n",
      "...                                                 ...      ...   \n",
      "1508  India starts supply of COVID vaccines to 6 nei...       en   \n",
      "1509  #india is waiting #srilankas necessary regulat...       en   \n",
      "1510  #india to supply #covid #vaccine to neighbors ...       en   \n",
      "1511  Washington state taps Starbucks for help with ...       en   \n",
      "1512  @PierrePoilievre Have you consider this year G...       en   \n",
      "\n",
      "                                              hashtags cashtags  \\\n",
      "0                                                   []       []   \n",
      "1                                                   []       []   \n",
      "2                                                   []       []   \n",
      "3          ['coronavius', 'corona', 'lka', 'srilanka']       []   \n",
      "4     ['corona', 'feelinggreat', 'keg', 'bestbuddies']       []   \n",
      "...                                                ...      ...   \n",
      "1508                                                []       []   \n",
      "1509        ['india', 'srilankas', 'covid', 'vaccine']       []   \n",
      "1510         ['india', 'covid', 'vaccine', 'srilanka']       []   \n",
      "1511                                                []       []   \n",
      "1512                                                []       []   \n",
      "\n",
      "                                            thumbnail  source  user_rt  \\\n",
      "0                                                 NaN     NaN      NaN   \n",
      "1     https://pbs.twimg.com/media/ETXaaGwWAAA4Pgf.jpg     NaN      NaN   \n",
      "2                                                 NaN     NaN      NaN   \n",
      "3     https://pbs.twimg.com/media/EQQ-niDX0AENnvi.jpg     NaN      NaN   \n",
      "4                                                 NaN     NaN      NaN   \n",
      "...                                               ...     ...      ...   \n",
      "1508                                              NaN     NaN      NaN   \n",
      "1509                                              NaN     NaN      NaN   \n",
      "1510                                              NaN     NaN      NaN   \n",
      "1511                                              NaN     NaN      NaN   \n",
      "1512                                              NaN     NaN      NaN   \n",
      "\n",
      "      retweet_id                                           reply_to  \\\n",
      "0            NaN                                                 []   \n",
      "1            NaN                                                 []   \n",
      "2            NaN                                                 []   \n",
      "3            NaN                                                 []   \n",
      "4            NaN                                                 []   \n",
      "...          ...                                                ...   \n",
      "1508         NaN                                                 []   \n",
      "1509         NaN                                                 []   \n",
      "1510         NaN                                                 []   \n",
      "1511         NaN                                                 []   \n",
      "1512         NaN  [{'screen_name': 'PierrePoilievre', 'name': 'p...   \n",
      "\n",
      "      retweet_date  translate  trans_src  trans_dest  \\\n",
      "0              NaN        NaN        NaN         NaN   \n",
      "1              NaN        NaN        NaN         NaN   \n",
      "2              NaN        NaN        NaN         NaN   \n",
      "3              NaN        NaN        NaN         NaN   \n",
      "4              NaN        NaN        NaN         NaN   \n",
      "...            ...        ...        ...         ...   \n",
      "1508           NaN        NaN        NaN         NaN   \n",
      "1509           NaN        NaN        NaN         NaN   \n",
      "1510           NaN        NaN        NaN         NaN   \n",
      "1511           NaN        NaN        NaN         NaN   \n",
      "1512           NaN        NaN        NaN         NaN   \n",
      "\n",
      "                                            clean_tweet  \n",
      "0     Corona season comming soon!!!!! @ Union Place ...  \n",
      "1        Corona Holidays like 👀 https://t.co/mBo1FYhQSR  \n",
      "2     The_beginning_of_corona_vacation ;-) 😁 On_the_...  \n",
      "3     අවදානමට පෙර සූදානම 😔 #Coronavius #corona #lka ...  \n",
      "4     Drinking Corona! Hell Yeah! #Corona #FeelingGr...  \n",
      "...                                                 ...  \n",
      "1508  India starts supply COVID vaccines 6 neighbour...  \n",
      "1509  #india waiting #srilankas necessary regulation...  \n",
      "1510  #india supply #covid #vaccine neighbors ! #sri...  \n",
      "1511  Washington state taps Starbucks help Covid vac...  \n",
      "1512  @PierrePoilievre Have consider year GDP contra...  \n",
      "\n",
      "[1513 rows x 17 columns]\n"
     ]
    }
   ],
   "source": [
    "df2['clean_tweet'] = df2['tweet'].apply(lambda x: ' '.join([item for item in x.split() if item not in stopwords]))\n",
    "print(df2)"
   ]
  },
  {
   "cell_type": "code",
   "execution_count": 6,
   "metadata": {},
   "outputs": [],
   "source": [
    "df2['vader_score'] = df2['clean_tweet'].apply(lambda x: analyzer.polarity_scores(x)['compound'])"
   ]
  },
  {
   "cell_type": "code",
   "execution_count": 7,
   "metadata": {},
   "outputs": [],
   "source": [
    "positive_num = len(df2[df2['vader_score'] >=0.05])\n",
    "negative_num = len(df2[df2['vader_score']<0.05])\n",
    "df2['vader_sentiment_label']= df2['vader_score'].map(lambda x:int(1) if x>=0.05 else int(0))"
   ]
  },
  {
   "cell_type": "code",
   "execution_count": null,
   "metadata": {},
   "outputs": [],
   "source": []
  },
  {
   "cell_type": "code",
   "execution_count": 8,
   "metadata": {},
   "outputs": [
    {
     "data": {
      "text/html": [
       "<div>\n",
       "<style scoped>\n",
       "    .dataframe tbody tr th:only-of-type {\n",
       "        vertical-align: middle;\n",
       "    }\n",
       "\n",
       "    .dataframe tbody tr th {\n",
       "        vertical-align: top;\n",
       "    }\n",
       "\n",
       "    .dataframe thead th {\n",
       "        text-align: right;\n",
       "    }\n",
       "</style>\n",
       "<table border=\"1\" class=\"dataframe\">\n",
       "  <thead>\n",
       "    <tr style=\"text-align: right;\">\n",
       "      <th></th>\n",
       "      <th>vader_sentiment_label</th>\n",
       "      <th>vader_score</th>\n",
       "      <th>clean_tweet</th>\n",
       "    </tr>\n",
       "  </thead>\n",
       "  <tbody>\n",
       "    <tr>\n",
       "      <th>0</th>\n",
       "      <td>0</td>\n",
       "      <td>0.0000</td>\n",
       "      <td>Corona season comming soon!!!!! @ Union Place ...</td>\n",
       "    </tr>\n",
       "    <tr>\n",
       "      <th>1</th>\n",
       "      <td>1</td>\n",
       "      <td>0.6249</td>\n",
       "      <td>Corona Holidays like 👀 https://t.co/mBo1FYhQSR</td>\n",
       "    </tr>\n",
       "    <tr>\n",
       "      <th>2</th>\n",
       "      <td>1</td>\n",
       "      <td>0.7906</td>\n",
       "      <td>The_beginning_of_corona_vacation ;-) 😁 On_the_...</td>\n",
       "    </tr>\n",
       "    <tr>\n",
       "      <th>3</th>\n",
       "      <td>1</td>\n",
       "      <td>0.0772</td>\n",
       "      <td>අවදානමට පෙර සූදානම 😔 #Coronavius #corona #lka ...</td>\n",
       "    </tr>\n",
       "    <tr>\n",
       "      <th>4</th>\n",
       "      <td>0</td>\n",
       "      <td>-0.6103</td>\n",
       "      <td>Drinking Corona! Hell Yeah! #Corona #FeelingGr...</td>\n",
       "    </tr>\n",
       "  </tbody>\n",
       "</table>\n",
       "</div>"
      ],
      "text/plain": [
       "   vader_sentiment_label  vader_score  \\\n",
       "0                      0       0.0000   \n",
       "1                      1       0.6249   \n",
       "2                      1       0.7906   \n",
       "3                      1       0.0772   \n",
       "4                      0      -0.6103   \n",
       "\n",
       "                                         clean_tweet  \n",
       "0  Corona season comming soon!!!!! @ Union Place ...  \n",
       "1     Corona Holidays like 👀 https://t.co/mBo1FYhQSR  \n",
       "2  The_beginning_of_corona_vacation ;-) 😁 On_the_...  \n",
       "3  අවදානමට පෙර සූදානම 😔 #Coronavius #corona #lka ...  \n",
       "4  Drinking Corona! Hell Yeah! #Corona #FeelingGr...  "
      ]
     },
     "execution_count": 8,
     "metadata": {},
     "output_type": "execute_result"
    }
   ],
   "source": [
    "df2 = df2.reindex(columns=['vader_sentiment_label', 'vader_score', 'clean_tweet'])\n",
    "df2.head()"
   ]
  },
  {
   "cell_type": "code",
   "execution_count": 9,
   "metadata": {},
   "outputs": [],
   "source": [
    "df2.to_csv('vader_processed_final.csv')"
   ]
  },
  {
   "cell_type": "code",
   "execution_count": 10,
   "metadata": {},
   "outputs": [
    {
     "data": {
      "text/plain": [
       "0       Corona season comming soon!!!!! @ Union Place ...\n",
       "1          Corona Holidays like 👀 https://t.co/mBo1FYhQSR\n",
       "2       The_beginning_of_corona_vacation ;-) 😁 On_the_...\n",
       "3       අවදානමට පෙර සූදානම 😔 #Coronavius #corona #lka ...\n",
       "4       Drinking Corona! Hell Yeah! #Corona #FeelingGr...\n",
       "                              ...                        \n",
       "1508    India starts supply COVID vaccines 6 neighbour...\n",
       "1509    #india waiting #srilankas necessary regulation...\n",
       "1510    #india supply #covid #vaccine neighbors ! #sri...\n",
       "1511    Washington state taps Starbucks help Covid vac...\n",
       "1512    @PierrePoilievre Have consider year GDP contra...\n",
       "Name: text, Length: 1513, dtype: object"
      ]
     },
     "execution_count": 10,
     "metadata": {},
     "output_type": "execute_result"
    }
   ],
   "source": [
    "df2['text'] = df2['clean_tweet']\n",
    "df2['text']"
   ]
  },
  {
   "cell_type": "code",
   "execution_count": 11,
   "metadata": {},
   "outputs": [
    {
     "data": {
      "text/plain": [
       "['Corona season comming soon Union Place',\n",
       " 'Corona Holidays like',\n",
       " 'Thebeginningofcoronavacation Onthewaytohome Pettah Bus Stand',\n",
       " 'Coronavius corona lka SriLanka',\n",
       " 'Drinking Corona Hell Yeah Corona FeelingGreat Keg BestBuddies The Keg Pub amp Restaurant']"
      ]
     },
     "execution_count": 11,
     "metadata": {},
     "output_type": "execute_result"
    }
   ],
   "source": [
    "def remove_url(txt):\n",
    "    return \" \".join(re.sub(\"([^0-9A-Za-z \\t])|(\\w+:\\/\\/\\S+)\", \"\", str(txt)).split())\n",
    "all_tweets_no_urls = [remove_url(tweet) for tweet in df2['text']]\n",
    "all_tweets_no_urls[:5]"
   ]
  },
  {
   "cell_type": "code",
   "execution_count": 12,
   "metadata": {},
   "outputs": [
    {
     "data": {
      "text/plain": [
       "[['corona', 'season', 'comming', 'soon', 'union', 'place'],\n",
       " ['corona', 'holidays', 'like']]"
      ]
     },
     "execution_count": 12,
     "metadata": {},
     "output_type": "execute_result"
    }
   ],
   "source": [
    "#lower_case = [word.lower() for word in df_new['text']]\n",
    "sentences = df2['text']\n",
    "all_tweets_no_urls[0].split()\n",
    "words_in_tweet = [tweet.lower().split() for tweet in all_tweets_no_urls]\n",
    "words_in_tweet[:2]"
   ]
  },
  {
   "cell_type": "code",
   "execution_count": 13,
   "metadata": {},
   "outputs": [
    {
     "data": {
      "text/plain": [
       "[('covid19', 1036),\n",
       " ('srilanka', 467),\n",
       " ('sri', 350),\n",
       " ('lka', 346),\n",
       " ('lanka', 308),\n",
       " ('quarantine', 281),\n",
       " ('home', 212),\n",
       " ('coronavirus', 193),\n",
       " ('corona', 186),\n",
       " ('covid19sl', 169),\n",
       " ('colombo', 158),\n",
       " ('covid', 149),\n",
       " ('covid19lk', 147),\n",
       " ('stay', 143),\n",
       " ('i', 135)]"
      ]
     },
     "execution_count": 13,
     "metadata": {},
     "output_type": "execute_result"
    }
   ],
   "source": [
    "#List of all words\n",
    "all_words_no_urls = list(itertools.chain(*words_in_tweet))\n",
    "\n",
    "# Create counter\n",
    "counts_no_urls = collections.Counter(all_words_no_urls)\n",
    "counts_no_urls.most_common(15)"
   ]
  },
  {
   "cell_type": "code",
   "execution_count": 14,
   "metadata": {},
   "outputs": [
    {
     "data": {
      "text/html": [
       "<div>\n",
       "<style scoped>\n",
       "    .dataframe tbody tr th:only-of-type {\n",
       "        vertical-align: middle;\n",
       "    }\n",
       "\n",
       "    .dataframe tbody tr th {\n",
       "        vertical-align: top;\n",
       "    }\n",
       "\n",
       "    .dataframe thead th {\n",
       "        text-align: right;\n",
       "    }\n",
       "</style>\n",
       "<table border=\"1\" class=\"dataframe\">\n",
       "  <thead>\n",
       "    <tr style=\"text-align: right;\">\n",
       "      <th></th>\n",
       "      <th>words</th>\n",
       "      <th>count</th>\n",
       "    </tr>\n",
       "  </thead>\n",
       "  <tbody>\n",
       "    <tr>\n",
       "      <th>0</th>\n",
       "      <td>covid19</td>\n",
       "      <td>1036</td>\n",
       "    </tr>\n",
       "    <tr>\n",
       "      <th>1</th>\n",
       "      <td>srilanka</td>\n",
       "      <td>467</td>\n",
       "    </tr>\n",
       "    <tr>\n",
       "      <th>2</th>\n",
       "      <td>sri</td>\n",
       "      <td>350</td>\n",
       "    </tr>\n",
       "    <tr>\n",
       "      <th>3</th>\n",
       "      <td>lka</td>\n",
       "      <td>346</td>\n",
       "    </tr>\n",
       "    <tr>\n",
       "      <th>4</th>\n",
       "      <td>lanka</td>\n",
       "      <td>308</td>\n",
       "    </tr>\n",
       "  </tbody>\n",
       "</table>\n",
       "</div>"
      ],
      "text/plain": [
       "      words  count\n",
       "0   covid19   1036\n",
       "1  srilanka    467\n",
       "2       sri    350\n",
       "3       lka    346\n",
       "4     lanka    308"
      ]
     },
     "execution_count": 14,
     "metadata": {},
     "output_type": "execute_result"
    }
   ],
   "source": [
    "clean_tweets_no_urls = pd.DataFrame(counts_no_urls.most_common(15),columns=['words', 'count'])\n",
    "clean_tweets_no_urls.head()\n"
   ]
  },
  {
   "cell_type": "code",
   "execution_count": 15,
   "metadata": {},
   "outputs": [
    {
     "data": {
      "text/plain": [
       "['corona', 'season', 'comming', 'soon', 'union', 'place']"
      ]
     },
     "execution_count": 15,
     "metadata": {},
     "output_type": "execute_result"
    }
   ],
   "source": [
    "from nltk.corpus import stopwords\n",
    "stop_words = set(stopwords.words('english'))\n",
    "# Remove stop words from each tweet list of words\n",
    "tweets_nsw = [[word for word in tweet_words if not word in stop_words]\n",
    "              for tweet_words in words_in_tweet]\n",
    "\n",
    "tweets_nsw[0]"
   ]
  },
  {
   "cell_type": "code",
   "execution_count": 16,
   "metadata": {},
   "outputs": [
    {
     "data": {
      "text/plain": [
       "[('covid19', 1036),\n",
       " ('srilanka', 467),\n",
       " ('sri', 350),\n",
       " ('lka', 346),\n",
       " ('lanka', 308),\n",
       " ('quarantine', 281),\n",
       " ('home', 212),\n",
       " ('coronavirus', 193),\n",
       " ('corona', 186),\n",
       " ('covid19sl', 169),\n",
       " ('colombo', 158),\n",
       " ('covid', 149),\n",
       " ('covid19lk', 147),\n",
       " ('stay', 143),\n",
       " ('cases', 126)]"
      ]
     },
     "execution_count": 16,
     "metadata": {},
     "output_type": "execute_result"
    }
   ],
   "source": [
    "all_words_nsw = list(itertools.chain(*tweets_nsw))  \n",
    "counts_nsw = collections.Counter(all_words_nsw)\n",
    "counts_nsw.most_common(15)"
   ]
  },
  {
   "cell_type": "code",
   "execution_count": 17,
   "metadata": {},
   "outputs": [],
   "source": [
    "collection_words = ['im', 'de', 'like', 'one']\n",
    "tweets_nsw_nc = [[w for w in word if not w in collection_words]\n",
    "                 for word in tweets_nsw]"
   ]
  },
  {
   "cell_type": "code",
   "execution_count": 18,
   "metadata": {},
   "outputs": [
    {
     "data": {
      "text/plain": [
       "[('covid19', 1036),\n",
       " ('srilanka', 467),\n",
       " ('sri', 350),\n",
       " ('lka', 346),\n",
       " ('lanka', 308),\n",
       " ('quarantine', 281),\n",
       " ('home', 212),\n",
       " ('coronavirus', 193),\n",
       " ('corona', 186),\n",
       " ('covid19sl', 169),\n",
       " ('colombo', 158),\n",
       " ('covid', 149),\n",
       " ('covid19lk', 147),\n",
       " ('stay', 143),\n",
       " ('cases', 126)]"
      ]
     },
     "execution_count": 18,
     "metadata": {},
     "output_type": "execute_result"
    }
   ],
   "source": [
    "# Flatten list of words in clean tweets\n",
    "all_words_nsw_nc = list(itertools.chain(*tweets_nsw_nc))\n",
    "\n",
    "# Create counter of words in clean tweets\n",
    "counts_nsw_nc = collections.Counter(all_words_nsw_nc)\n",
    "\n",
    "counts_nsw_nc.most_common(15)"
   ]
  },
  {
   "cell_type": "code",
   "execution_count": 19,
   "metadata": {},
   "outputs": [
    {
     "data": {
      "text/html": [
       "<div>\n",
       "<style scoped>\n",
       "    .dataframe tbody tr th:only-of-type {\n",
       "        vertical-align: middle;\n",
       "    }\n",
       "\n",
       "    .dataframe tbody tr th {\n",
       "        vertical-align: top;\n",
       "    }\n",
       "\n",
       "    .dataframe thead th {\n",
       "        text-align: right;\n",
       "    }\n",
       "</style>\n",
       "<table border=\"1\" class=\"dataframe\">\n",
       "  <thead>\n",
       "    <tr style=\"text-align: right;\">\n",
       "      <th></th>\n",
       "      <th>words</th>\n",
       "      <th>count</th>\n",
       "    </tr>\n",
       "  </thead>\n",
       "  <tbody>\n",
       "    <tr>\n",
       "      <th>0</th>\n",
       "      <td>covid19</td>\n",
       "      <td>1036</td>\n",
       "    </tr>\n",
       "    <tr>\n",
       "      <th>1</th>\n",
       "      <td>srilanka</td>\n",
       "      <td>467</td>\n",
       "    </tr>\n",
       "    <tr>\n",
       "      <th>2</th>\n",
       "      <td>sri</td>\n",
       "      <td>350</td>\n",
       "    </tr>\n",
       "    <tr>\n",
       "      <th>3</th>\n",
       "      <td>lka</td>\n",
       "      <td>346</td>\n",
       "    </tr>\n",
       "    <tr>\n",
       "      <th>4</th>\n",
       "      <td>lanka</td>\n",
       "      <td>308</td>\n",
       "    </tr>\n",
       "  </tbody>\n",
       "</table>\n",
       "</div>"
      ],
      "text/plain": [
       "      words  count\n",
       "0   covid19   1036\n",
       "1  srilanka    467\n",
       "2       sri    350\n",
       "3       lka    346\n",
       "4     lanka    308"
      ]
     },
     "execution_count": 19,
     "metadata": {},
     "output_type": "execute_result"
    }
   ],
   "source": [
    "clean_tweets_ncw = pd.DataFrame(counts_nsw_nc.most_common(15),\n",
    "                             columns=['words', 'count'])\n",
    "clean_tweets_ncw.head()"
   ]
  },
  {
   "cell_type": "code",
   "execution_count": 20,
   "metadata": {},
   "outputs": [
    {
     "data": {
      "image/png": "[encoded data removed]",
      "text/plain": [
       "<Figure size 576x576 with 1 Axes>"
      ]
     },
     "metadata": {
      "image/png": {
       "height": 493,
       "width": 576
      }
     },
     "output_type": "display_data"
    }
   ],
   "source": [
    "fig, ax = plt.subplots(figsize=(8, 8))\n",
    "\n",
    "# Plot horizontal bar graph\n",
    "clean_tweets_no_urls.sort_values(by='count').plot.barh(x='words',\n",
    "                      y='count',\n",
    "                      ax=ax,\n",
    "                      color=\"purple\")\n",
    "\n",
    "ax.set_title(\"Common Words Found in Tweets (Including All Words)\")\n",
    "\n",
    "plt.show()"
   ]
  },
  {
   "cell_type": "code",
   "execution_count": 21,
   "metadata": {},
   "outputs": [
    {
     "data": {
      "text/html": [
       "<div>\n",
       "<style scoped>\n",
       "    .dataframe tbody tr th:only-of-type {\n",
       "        vertical-align: middle;\n",
       "    }\n",
       "\n",
       "    .dataframe tbody tr th {\n",
       "        vertical-align: top;\n",
       "    }\n",
       "\n",
       "    .dataframe thead th {\n",
       "        text-align: right;\n",
       "    }\n",
       "</style>\n",
       "<table border=\"1\" class=\"dataframe\">\n",
       "  <thead>\n",
       "    <tr style=\"text-align: right;\">\n",
       "      <th></th>\n",
       "      <th>bigram</th>\n",
       "      <th>count</th>\n",
       "    </tr>\n",
       "  </thead>\n",
       "  <tbody>\n",
       "    <tr>\n",
       "      <th>0</th>\n",
       "      <td>(sri, lanka)</td>\n",
       "      <td>297</td>\n",
       "    </tr>\n",
       "    <tr>\n",
       "      <th>1</th>\n",
       "      <td>(srilanka, lka)</td>\n",
       "      <td>145</td>\n",
       "    </tr>\n",
       "    <tr>\n",
       "      <th>2</th>\n",
       "      <td>(lka, coronavirus)</td>\n",
       "      <td>87</td>\n",
       "    </tr>\n",
       "    <tr>\n",
       "      <th>3</th>\n",
       "      <td>(stay, home)</td>\n",
       "      <td>86</td>\n",
       "    </tr>\n",
       "    <tr>\n",
       "      <th>4</th>\n",
       "      <td>(lka, srilanka)</td>\n",
       "      <td>77</td>\n",
       "    </tr>\n",
       "    <tr>\n",
       "      <th>5</th>\n",
       "      <td>(coronavirus, covid19)</td>\n",
       "      <td>73</td>\n",
       "    </tr>\n",
       "    <tr>\n",
       "      <th>6</th>\n",
       "      <td>(covid19sl, covid19lk)</td>\n",
       "      <td>69</td>\n",
       "    </tr>\n",
       "    <tr>\n",
       "      <th>7</th>\n",
       "      <td>(positive, covid19)</td>\n",
       "      <td>66</td>\n",
       "    </tr>\n",
       "    <tr>\n",
       "      <th>8</th>\n",
       "      <td>(covid, 19)</td>\n",
       "      <td>61</td>\n",
       "    </tr>\n",
       "    <tr>\n",
       "      <th>9</th>\n",
       "      <td>(tested, positive)</td>\n",
       "      <td>57</td>\n",
       "    </tr>\n",
       "    <tr>\n",
       "      <th>10</th>\n",
       "      <td>(covid19, srilanka)</td>\n",
       "      <td>56</td>\n",
       "    </tr>\n",
       "    <tr>\n",
       "      <th>11</th>\n",
       "      <td>(colombo, sri)</td>\n",
       "      <td>54</td>\n",
       "    </tr>\n",
       "    <tr>\n",
       "      <th>12</th>\n",
       "      <td>(covid19, cases)</td>\n",
       "      <td>53</td>\n",
       "    </tr>\n",
       "    <tr>\n",
       "      <th>13</th>\n",
       "      <td>(covid19lk, covid19sl)</td>\n",
       "      <td>44</td>\n",
       "    </tr>\n",
       "    <tr>\n",
       "      <th>14</th>\n",
       "      <td>(covid19lk, covid19)</td>\n",
       "      <td>43</td>\n",
       "    </tr>\n",
       "    <tr>\n",
       "      <th>15</th>\n",
       "      <td>(covid19, coronavirus)</td>\n",
       "      <td>39</td>\n",
       "    </tr>\n",
       "    <tr>\n",
       "      <th>16</th>\n",
       "      <td>(covid19sl, covid19)</td>\n",
       "      <td>39</td>\n",
       "    </tr>\n",
       "    <tr>\n",
       "      <th>17</th>\n",
       "      <td>(covid19, covid19)</td>\n",
       "      <td>32</td>\n",
       "    </tr>\n",
       "    <tr>\n",
       "      <th>18</th>\n",
       "      <td>(covid19, vaccine)</td>\n",
       "      <td>30</td>\n",
       "    </tr>\n",
       "    <tr>\n",
       "      <th>19</th>\n",
       "      <td>(mount, lavinia)</td>\n",
       "      <td>30</td>\n",
       "    </tr>\n",
       "  </tbody>\n",
       "</table>\n",
       "</div>"
      ],
      "text/plain": [
       "                    bigram  count\n",
       "0             (sri, lanka)    297\n",
       "1          (srilanka, lka)    145\n",
       "2       (lka, coronavirus)     87\n",
       "3             (stay, home)     86\n",
       "4          (lka, srilanka)     77\n",
       "5   (coronavirus, covid19)     73\n",
       "6   (covid19sl, covid19lk)     69\n",
       "7      (positive, covid19)     66\n",
       "8              (covid, 19)     61\n",
       "9       (tested, positive)     57\n",
       "10     (covid19, srilanka)     56\n",
       "11          (colombo, sri)     54\n",
       "12        (covid19, cases)     53\n",
       "13  (covid19lk, covid19sl)     44\n",
       "14    (covid19lk, covid19)     43\n",
       "15  (covid19, coronavirus)     39\n",
       "16    (covid19sl, covid19)     39\n",
       "17      (covid19, covid19)     32\n",
       "18      (covid19, vaccine)     30\n",
       "19        (mount, lavinia)     30"
      ]
     },
     "execution_count": 21,
     "metadata": {},
     "output_type": "execute_result"
    }
   ],
   "source": [
    "from nltk import bigrams\n",
    "\n",
    "# Create list of lists containing bigrams in tweets\n",
    "terms_bigram = [list(bigrams(tweet)) for tweet in tweets_nsw_nc]\n",
    "\n",
    "# View bigrams for the first tweet\n",
    "terms_bigram[0]\n",
    "# Flatten list of bigrams in clean tweets\n",
    "bigrams = list(itertools.chain(*terms_bigram))\n",
    "\n",
    "# Create counter of words in clean bigrams\n",
    "bigram_counts = collections.Counter(bigrams)\n",
    "\n",
    "bigram_counts.most_common(20)\n",
    "bigram_df = pd.DataFrame(bigram_counts.most_common(20),columns=['bigram', 'count']) \n",
    "bigram_df"
   ]
  },
  {
   "cell_type": "code",
   "execution_count": null,
   "metadata": {},
   "outputs": [],
   "source": []
  },
  {
   "cell_type": "code",
   "execution_count": null,
   "metadata": {},
   "outputs": [],
   "source": []
  }
 ],
 "metadata": {
  "kernelspec": {
   "display_name": "Python 3",
   "language": "python",
   "name": "python3"
  },
  "language_info": {
   "codemirror_mode": {
    "name": "ipython",
    "version": 3
   },
   "file_extension": ".py",
   "mimetype": "text/x-python",
   "name": "python",
   "nbconvert_exporter": "python",
   "pygments_lexer": "ipython3",
   "version": "3.7.0"
  }
 },
 "nbformat": 4,
 "nbformat_minor": 4
}
