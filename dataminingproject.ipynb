{
 "cells": [
  {
   "cell_type": "code",
   "execution_count": 1,
   "metadata": {},
   "outputs": [
    {
     "name": "stdout",
     "output_type": "stream",
     "text": [
      "Requirement already satisfied: pandas in c:\\users\\nimes\\appdata\\local\\programs\\python\\python37\\lib\\site-packages (1.1.4)\n",
      "Requirement already satisfied: pytz>=2017.2 in c:\\users\\nimes\\appdata\\local\\programs\\python\\python37\\lib\\site-packages (from pandas) (2020.4)\n",
      "Requirement already satisfied: python-dateutil>=2.7.3 in c:\\users\\nimes\\appdata\\local\\programs\\python\\python37\\lib\\site-packages (from pandas) (2.8.1)\n",
      "Requirement already satisfied: numpy>=1.15.4 in c:\\users\\nimes\\appdata\\local\\programs\\python\\python37\\lib\\site-packages (from pandas) (1.19.3)\n",
      "Requirement already satisfied: six>=1.5 in c:\\users\\nimes\\appdata\\roaming\\python\\python37\\site-packages (from python-dateutil>=2.7.3->pandas) (1.12.0)\n"
     ]
    },
    {
     "name": "stderr",
     "output_type": "stream",
     "text": [
      "WARNING: You are using pip version 20.3.1; however, version 21.0.1 is available.\n",
      "You should consider upgrading via the 'c:\\users\\nimes\\appdata\\local\\programs\\python\\python37\\python.exe -m pip install --upgrade pip' command.\n"
     ]
    },
    {
     "name": "stdout",
     "output_type": "stream",
     "text": [
      "Requirement already satisfied: numpy in c:\\users\\nimes\\appdata\\local\\programs\\python\\python37\\lib\\site-packages (1.19.3)\n"
     ]
    },
    {
     "name": "stderr",
     "output_type": "stream",
     "text": [
      "WARNING: You are using pip version 20.3.1; however, version 21.0.1 is available.\n",
      "You should consider upgrading via the 'c:\\users\\nimes\\appdata\\local\\programs\\python\\python37\\python.exe -m pip install --upgrade pip' command.\n"
     ]
    },
    {
     "name": "stdout",
     "output_type": "stream",
     "text": [
      "Requirement already satisfied: matplotlib in c:\\users\\nimes\\appdata\\local\\programs\\python\\python37\\lib\\site-packages (3.3.4)\n",
      "Requirement already satisfied: pillow>=6.2.0 in c:\\users\\nimes\\appdata\\local\\programs\\python\\python37\\lib\\site-packages (from matplotlib) (8.1.0)\n",
      "Requirement already satisfied: pyparsing!=2.0.4,!=2.1.2,!=2.1.6,>=2.0.3 in c:\\users\\nimes\\appdata\\local\\programs\\python\\python37\\lib\\site-packages (from matplotlib) (2.4.7)\n",
      "Requirement already satisfied: kiwisolver>=1.0.1 in c:\\users\\nimes\\appdata\\local\\programs\\python\\python37\\lib\\site-packages (from matplotlib) (1.3.1)\n",
      "Requirement already satisfied: python-dateutil>=2.1 in c:\\users\\nimes\\appdata\\local\\programs\\python\\python37\\lib\\site-packages (from matplotlib) (2.8.1)\n",
      "Requirement already satisfied: numpy>=1.15 in c:\\users\\nimes\\appdata\\local\\programs\\python\\python37\\lib\\site-packages (from matplotlib) (1.19.3)\n",
      "Requirement already satisfied: cycler>=0.10 in c:\\users\\nimes\\appdata\\local\\programs\\python\\python37\\lib\\site-packages (from matplotlib) (0.10.0)\n",
      "Requirement already satisfied: six in c:\\users\\nimes\\appdata\\roaming\\python\\python37\\site-packages (from cycler>=0.10->matplotlib) (1.12.0)\n",
      "Requirement already satisfied: six in c:\\users\\nimes\\appdata\\roaming\\python\\python37\\site-packages (from cycler>=0.10->matplotlib) (1.12.0)\n"
     ]
    },
    {
     "name": "stderr",
     "output_type": "stream",
     "text": [
      "WARNING: You are using pip version 20.3.1; however, version 21.0.1 is available.\n",
      "You should consider upgrading via the 'c:\\users\\nimes\\appdata\\local\\programs\\python\\python37\\python.exe -m pip install --upgrade pip' command.\n"
     ]
    },
    {
     "name": "stdout",
     "output_type": "stream",
     "text": [
      "Requirement already satisfied: seaborn in c:\\users\\nimes\\appdata\\local\\programs\\python\\python37\\lib\\site-packages (0.11.1)\n"
     ]
    },
    {
     "name": "stderr",
     "output_type": "stream",
     "text": [
      "WARNING: You are using pip version 20.3.1; however, version 21.0.1 is available.\n",
      "You should consider upgrading via the 'c:\\users\\nimes\\appdata\\local\\programs\\python\\python37\\python.exe -m pip install --upgrade pip' command.\n"
     ]
    },
    {
     "name": "stdout",
     "output_type": "stream",
     "text": [
      "Requirement already satisfied: matplotlib>=2.2 in c:\\users\\nimes\\appdata\\local\\programs\\python\\python37\\lib\\site-packages (from seaborn) (3.3.4)\n",
      "Requirement already satisfied: pandas>=0.23 in c:\\users\\nimes\\appdata\\local\\programs\\python\\python37\\lib\\site-packages (from seaborn) (1.1.4)\n",
      "Requirement already satisfied: numpy>=1.15 in c:\\users\\nimes\\appdata\\local\\programs\\python\\python37\\lib\\site-packages (from seaborn) (1.19.3)\n",
      "Requirement already satisfied: scipy>=1.0 in c:\\users\\nimes\\appdata\\local\\programs\\python\\python37\\lib\\site-packages (from seaborn) (1.6.0)\n",
      "Requirement already satisfied: kiwisolver>=1.0.1 in c:\\users\\nimes\\appdata\\local\\programs\\python\\python37\\lib\\site-packages (from matplotlib>=2.2->seaborn) (1.3.1)\n",
      "Requirement already satisfied: python-dateutil>=2.1 in c:\\users\\nimes\\appdata\\local\\programs\\python\\python37\\lib\\site-packages (from matplotlib>=2.2->seaborn) (2.8.1)\n",
      "Requirement already satisfied: pillow>=6.2.0 in c:\\users\\nimes\\appdata\\local\\programs\\python\\python37\\lib\\site-packages (from matplotlib>=2.2->seaborn) (8.1.0)\n",
      "Requirement already satisfied: numpy>=1.15 in c:\\users\\nimes\\appdata\\local\\programs\\python\\python37\\lib\\site-packages (from seaborn) (1.19.3)\n",
      "Requirement already satisfied: cycler>=0.10 in c:\\users\\nimes\\appdata\\local\\programs\\python\\python37\\lib\\site-packages (from matplotlib>=2.2->seaborn) (0.10.0)\n",
      "Requirement already satisfied: pyparsing!=2.0.4,!=2.1.2,!=2.1.6,>=2.0.3 in c:\\users\\nimes\\appdata\\local\\programs\\python\\python37\\lib\\site-packages (from matplotlib>=2.2->seaborn) (2.4.7)\n",
      "Requirement already satisfied: six in c:\\users\\nimes\\appdata\\roaming\\python\\python37\\site-packages (from cycler>=0.10->matplotlib>=2.2->seaborn) (1.12.0)\n",
      "Requirement already satisfied: numpy>=1.15 in c:\\users\\nimes\\appdata\\local\\programs\\python\\python37\\lib\\site-packages (from seaborn) (1.19.3)\n",
      "Requirement already satisfied: python-dateutil>=2.1 in c:\\users\\nimes\\appdata\\local\\programs\\python\\python37\\lib\\site-packages (from matplotlib>=2.2->seaborn) (2.8.1)\n",
      "Requirement already satisfied: pytz>=2017.2 in c:\\users\\nimes\\appdata\\local\\programs\\python\\python37\\lib\\site-packages (from pandas>=0.23->seaborn) (2020.4)\n",
      "Requirement already satisfied: six in c:\\users\\nimes\\appdata\\roaming\\python\\python37\\site-packages (from cycler>=0.10->matplotlib>=2.2->seaborn) (1.12.0)\n",
      "Requirement already satisfied: numpy>=1.15 in c:\\users\\nimes\\appdata\\local\\programs\\python\\python37\\lib\\site-packages (from seaborn) (1.19.3)\n",
      "Requirement already satisfied: vaderSentiment in c:\\users\\nimes\\appdata\\local\\programs\\python\\python37\\lib\\site-packages (3.3.2)\n",
      "Requirement already satisfied: requests in c:\\users\\nimes\\appdata\\local\\programs\\python\\python37\\lib\\site-packages (from vaderSentiment) (2.25.0)\n",
      "Requirement already satisfied: urllib3<1.27,>=1.21.1 in c:\\users\\nimes\\appdata\\local\\programs\\python\\python37\\lib\\site-packages (from requests->vaderSentiment) (1.26.2)\n",
      "Requirement already satisfied: chardet<4,>=3.0.2 in c:\\users\\nimes\\appdata\\local\\programs\\python\\python37\\lib\\site-packages (from requests->vaderSentiment) (3.0.4)\n",
      "Requirement already satisfied: idna<3,>=2.5 in c:\\users\\nimes\\appdata\\local\\programs\\python\\python37\\lib\\site-packages (from requests->vaderSentiment) (2.10)\n",
      "Requirement already satisfied: certifi>=2017.4.17 in c:\\users\\nimes\\appdata\\local\\programs\\python\\python37\\lib\\site-packages (from requests->vaderSentiment) (2020.12.5)\n"
     ]
    },
    {
     "name": "stderr",
     "output_type": "stream",
     "text": [
      "WARNING: You are using pip version 20.3.1; however, version 21.0.1 is available.\n",
      "You should consider upgrading via the 'c:\\users\\nimes\\appdata\\local\\programs\\python\\python37\\python.exe -m pip install --upgrade pip' command.\n"
     ]
    },
    {
     "name": "stdout",
     "output_type": "stream",
     "text": [
      "Requirement already satisfied: networkx in c:\\users\\nimes\\appdata\\local\\programs\\python\\python37\\lib\\site-packages (2.5)"
     ]
    },
    {
     "name": "stderr",
     "output_type": "stream",
     "text": [
      "WARNING: You are using pip version 20.3.1; however, version 21.0.1 is available.\n",
      "You should consider upgrading via the 'c:\\users\\nimes\\appdata\\local\\programs\\python\\python37\\python.exe -m pip install --upgrade pip' command.\n"
     ]
    },
    {
     "name": "stdout",
     "output_type": "stream",
     "text": [
      "\n",
      "Requirement already satisfied: decorator>=4.3.0 in c:\\users\\nimes\\appdata\\local\\programs\\python\\python37\\lib\\site-packages (from networkx) (4.4.2)\n",
      "Requirement already satisfied: regex in c:\\users\\nimes\\appdata\\local\\programs\\python\\python37\\lib\\site-packages (2020.11.13)\n"
     ]
    },
    {
     "name": "stderr",
     "output_type": "stream",
     "text": [
      "WARNING: You are using pip version 20.3.1; however, version 21.0.1 is available.\n",
      "You should consider upgrading via the 'c:\\users\\nimes\\appdata\\local\\programs\\python\\python37\\python.exe -m pip install --upgrade pip' command.\n"
     ]
    },
    {
     "name": "stdout",
     "output_type": "stream",
     "text": [
      "Requirement already satisfied: collection in c:\\users\\nimes\\appdata\\local\\programs\\python\\python37\\lib\\site-packages (0.1.6)\n"
     ]
    },
    {
     "name": "stderr",
     "output_type": "stream",
     "text": [
      "WARNING: You are using pip version 20.3.1; however, version 21.0.1 is available.\n",
      "You should consider upgrading via the 'c:\\users\\nimes\\appdata\\local\\programs\\python\\python37\\python.exe -m pip install --upgrade pip' command.\n"
     ]
    },
    {
     "name": "stdout",
     "output_type": "stream",
     "text": [
      "Requirement already satisfied: collections-extended in c:\\users\\nimes\\appdata\\local\\programs\\python\\python37\\lib\\site-packages (1.0.3)\n",
      "Requirement already satisfied: setuptools in c:\\users\\nimes\\appdata\\local\\programs\\python\\python37\\lib\\site-packages (from collections-extended) (39.0.1)\n"
     ]
    },
    {
     "name": "stderr",
     "output_type": "stream",
     "text": [
      "WARNING: You are using pip version 20.3.1; however, version 21.0.1 is available.\n",
      "You should consider upgrading via the 'c:\\users\\nimes\\appdata\\local\\programs\\python\\python37\\python.exe -m pip install --upgrade pip' command.\n"
     ]
    },
    {
     "name": "stdout",
     "output_type": "stream",
     "text": [
      "Requirement already satisfied: more-itertools in c:\\users\\nimes\\appdata\\local\\programs\\python\\python37\\lib\\site-packages (8.6.0)\n"
     ]
    },
    {
     "name": "stderr",
     "output_type": "stream",
     "text": [
      "WARNING: You are using pip version 20.3.1; however, version 21.0.1 is available.\n",
      "You should consider upgrading via the 'c:\\users\\nimes\\appdata\\local\\programs\\python\\python37\\python.exe -m pip install --upgrade pip' command.\n"
     ]
    },
    {
     "name": "stdout",
     "output_type": "stream",
     "text": [
      "Collecting re2"
     ]
    },
    {
     "name": "stderr",
     "output_type": "stream",
     "text": [
      "    ERROR: Command errored out with exit status 1:\n",
      "     command: 'c:\\users\\nimes\\appdata\\local\\programs\\python\\python37\\python.exe' -u -c 'import sys, setuptools, tokenize; sys.argv[0] = '\"'\"'C:\\\\Users\\\\nimes\\\\AppData\\\\Local\\\\Temp\\\\pip-install-d3cbbswg\\\\re2_19f37b91e8604bfc9a0c738546e0d54c\\\\setup.py'\"'\"'; __file__='\"'\"'C:\\\\Users\\\\nimes\\\\AppData\\\\Local\\\\Temp\\\\pip-install-d3cbbswg\\\\re2_19f37b91e8604bfc9a0c738546e0d54c\\\\setup.py'\"'\"';f=getattr(tokenize, '\"'\"'open'\"'\"', open)(__file__);code=f.read().replace('\"'\"'\\r\\n'\"'\"', '\"'\"'\\n'\"'\"');f.close();exec(compile(code, __file__, '\"'\"'exec'\"'\"'))' install --record 'C:\\Users\\nimes\\AppData\\Local\\Temp\\pip-record-z1ddyiaz\\install-record.txt' --single-version-externally-managed --compile --install-headers 'c:\\users\\nimes\\appdata\\local\\programs\\python\\python37\\Include\\re2'\n",
      "         cwd: C:\\Users\\nimes\\AppData\\Local\\Temp\\pip-install-d3cbbswg\\re2_19f37b91e8604bfc9a0c738546e0d54c\\\n",
      "    Complete output (5 lines):\n",
      "    running install\n",
      "    running build\n",
      "    running build_ext\n",
      "    building 're2' extension\n",
      "    error: Microsoft Visual C++ 14.0 is required. Get it with \"Microsoft Visual C++ Build Tools\": http://landinghub.visualstudio.com/visual-cpp-build-tools\n",
      "    ----------------------------------------\n",
      "ERROR: Command errored out with exit status 1: 'c:\\users\\nimes\\appdata\\local\\programs\\python\\python37\\python.exe' -u -c 'import sys, setuptools, tokenize; sys.argv[0] = '\"'\"'C:\\\\Users\\\\nimes\\\\AppData\\\\Local\\\\Temp\\\\pip-install-d3cbbswg\\\\re2_19f37b91e8604bfc9a0c738546e0d54c\\\\setup.py'\"'\"'; __file__='\"'\"'C:\\\\Users\\\\nimes\\\\AppData\\\\Local\\\\Temp\\\\pip-install-d3cbbswg\\\\re2_19f37b91e8604bfc9a0c738546e0d54c\\\\setup.py'\"'\"';f=getattr(tokenize, '\"'\"'open'\"'\"', open)(__file__);code=f.read().replace('\"'\"'\\r\\n'\"'\"', '\"'\"'\\n'\"'\"');f.close();exec(compile(code, __file__, '\"'\"'exec'\"'\"'))' install --record 'C:\\Users\\nimes\\AppData\\Local\\Temp\\pip-record-z1ddyiaz\\install-record.txt' --single-version-externally-managed --compile --install-headers 'c:\\users\\nimes\\appdata\\local\\programs\\python\\python37\\Include\\re2' Check the logs for full command output.\n",
      "WARNING: You are using pip version 20.3.1; however, version 21.0.1 is available.\n",
      "You should consider upgrading via the 'c:\\users\\nimes\\appdata\\local\\programs\\python\\python37\\python.exe -m pip install --upgrade pip' command.\n"
     ]
    },
    {
     "name": "stdout",
     "output_type": "stream",
     "text": [
      "\n",
      "  Using cached re2-0.2.24.tar.gz (1.9 MB)\n",
      "Using legacy 'setup.py install' for re2, since package 'wheel' is not installed.\n",
      "Installing collected packages: re2\n",
      "    Running setup.py install for re2: started\n",
      "    Running setup.py install for re2: finished with status 'error'\n",
      "Requirement already satisfied: nltk in c:\\users\\nimes\\appdata\\local\\programs\\python\\python37\\lib\\site-packages (3.5)\n",
      "Requirement already satisfied: click in c:\\users\\nimes\\appdata\\local\\programs\\python\\python37\\lib\\site-packages (from nltk) (7.1.2)\n",
      "Requirement already satisfied: joblib in c:\\users\\nimes\\appdata\\local\\programs\\python\\python37\\lib\\site-packages (from nltk) (1.0.0)\n",
      "Requirement already satisfied: regex in c:\\users\\nimes\\appdata\\local\\programs\\python\\python37\\lib\\site-packages (from nltk) (2020.11.13)\n",
      "Requirement already satisfied: tqdm in c:\\users\\nimes\\appdata\\local\\programs\\python\\python37\\lib\\site-packages (from nltk) (4.56.0)\n"
     ]
    },
    {
     "name": "stderr",
     "output_type": "stream",
     "text": [
      "WARNING: You are using pip version 20.3.1; however, version 21.0.1 is available.\n",
      "You should consider upgrading via the 'c:\\users\\nimes\\appdata\\local\\programs\\python\\python37\\python.exe -m pip install --upgrade pip' command.\n"
     ]
    },
    {
     "name": "stdout",
     "output_type": "stream",
     "text": [
      "Requirement already satisfied: wordcloud in c:\\users\\nimes\\appdata\\local\\programs\\python\\python37\\lib\\site-packages (1.8.1)\n",
      "Requirement already satisfied: numpy>=1.6.1 in c:\\users\\nimes\\appdata\\local\\programs\\python\\python37\\lib\\site-packages (from wordcloud) (1.19.3)\n",
      "Requirement already satisfied: matplotlib in c:\\users\\nimes\\appdata\\local\\programs\\python\\python37\\lib\\site-packages (from wordcloud) (3.3.4)\n",
      "Requirement already satisfied: pillow in c:\\users\\nimes\\appdata\\local\\programs\\python\\python37\\lib\\site-packages (from wordcloud) (8.1.0)"
     ]
    },
    {
     "name": "stderr",
     "output_type": "stream",
     "text": [
      "WARNING: You are using pip version 20.3.1; however, version 21.0.1 is available.\n",
      "You should consider upgrading via the 'c:\\users\\nimes\\appdata\\local\\programs\\python\\python37\\python.exe -m pip install --upgrade pip' command.\n"
     ]
    },
    {
     "name": "stdout",
     "output_type": "stream",
     "text": [
      "\n",
      "Requirement already satisfied: numpy>=1.6.1 in c:\\users\\nimes\\appdata\\local\\programs\\python\\python37\\lib\\site-packages (from wordcloud) (1.19.3)\n",
      "Requirement already satisfied: pyparsing!=2.0.4,!=2.1.2,!=2.1.6,>=2.0.3 in c:\\users\\nimes\\appdata\\local\\programs\\python\\python37\\lib\\site-packages (from matplotlib->wordcloud) (2.4.7)\n",
      "Requirement already satisfied: kiwisolver>=1.0.1 in c:\\users\\nimes\\appdata\\local\\programs\\python\\python37\\lib\\site-packages (from matplotlib->wordcloud) (1.3.1)\n",
      "Requirement already satisfied: python-dateutil>=2.1 in c:\\users\\nimes\\appdata\\local\\programs\\python\\python37\\lib\\site-packages (from matplotlib->wordcloud) (2.8.1)\n",
      "Requirement already satisfied: pillow in c:\\users\\nimes\\appdata\\local\\programs\\python\\python37\\lib\\site-packages (from wordcloud) (8.1.0)\n",
      "Requirement already satisfied: cycler>=0.10 in c:\\users\\nimes\\appdata\\local\\programs\\python\\python37\\lib\\site-packages (from matplotlib->wordcloud) (0.10.0)\n",
      "Requirement already satisfied: six in c:\\users\\nimes\\appdata\\roaming\\python\\python37\\site-packages (from cycler>=0.10->matplotlib->wordcloud) (1.12.0)\n",
      "Requirement already satisfied: six in c:\\users\\nimes\\appdata\\roaming\\python\\python37\\site-packages (from cycler>=0.10->matplotlib->wordcloud) (1.12.0)\n",
      "Collecting tensorflow\n",
      "  Downloading tensorflow-2.4.1-cp37-cp37m-win_amd64.whl (370.7 MB)\n",
      "Requirement already satisfied: numpy~=1.19.2 in c:\\users\\nimes\\appdata\\local\\programs\\python\\python37\\lib\\site-packages (from tensorflow) (1.19.3)\n",
      "Requirement already satisfied: keras-preprocessing~=1.1.2 in c:\\users\\nimes\\appdata\\local\\programs\\python\\python37\\lib\\site-packages (from tensorflow) (1.1.2)\n",
      "Requirement already satisfied: typing-extensions~=3.7.4 in c:\\users\\nimes\\appdata\\local\\programs\\python\\python37\\lib\\site-packages (from tensorflow) (3.7.4.3)\n",
      "Requirement already satisfied: termcolor~=1.1.0 in c:\\users\\nimes\\appdata\\local\\programs\\python\\python37\\lib\\site-packages (from tensorflow) (1.1.0)\n",
      "Collecting absl-py~=0.10\n",
      "  Downloading absl_py-0.11.0-py3-none-any.whl (127 kB)\n",
      "Collecting astunparse~=1.6.3\n",
      "  Downloading astunparse-1.6.3-py2.py3-none-any.whl (12 kB)\n",
      "Collecting flatbuffers~=1.12.0\n"
     ]
    },
    {
     "name": "stderr",
     "output_type": "stream",
     "text": [
      "  WARNING: Retrying (Retry(total=4, connect=None, read=None, redirect=None, status=None)) after connection broken by 'ReadTimeoutError(\"HTTPSConnectionPool(host='files.pythonhosted.org', port=443): Read timed out. (read timeout=15)\")': /packages/bc/58/0aa6fb779dc69cfc811df3398fcbeaeefbf18561b6e36b185df0782781cc/absl_py-0.11.0-py3-none-any.whl\n",
      "WARNING: You are using pip version 20.3.1; however, version 21.0.1 is available.\n"
     ]
    },
    {
     "name": "stdout",
     "output_type": "stream",
     "text": [
      "  Downloading flatbuffers-1.12-py2.py3-none-any.whl (15 kB)\n",
      "Collecting gast==0.3.3\n",
      "  Downloading gast-0.3.3-py2.py3-none-any.whl (9.7 kB)\n",
      "Collecting google-pasta~=0.2\n",
      "  Downloading google_pasta-0.2.0-py3-none-any.whl (57 kB)\n",
      "Collecting grpcio~=1.32.0\n",
      "  Downloading grpcio-1.32.0-cp37-cp37m-win_amd64.whl (2.5 MB)\n",
      "Collecting h5py~=2.10.0\n",
      "  Downloading h5py-2.10.0-cp37-cp37m-win_amd64.whl (2.5 MB)\n",
      "Requirement already satisfied: numpy~=1.19.2 in c:\\users\\nimes\\appdata\\local\\programs\\python\\python37\\lib\\site-packages (from tensorflow) (1.19.3)\n",
      "Requirement already satisfied: numpy~=1.19.2 in c:\\users\\nimes\\appdata\\local\\programs\\python\\python37\\lib\\site-packages (from tensorflow) (1.19.3)\n",
      "Collecting opt-einsum~=3.3.0\n",
      "  Downloading opt_einsum-3.3.0-py3-none-any.whl (65 kB)\n",
      "Requirement already satisfied: numpy~=1.19.2 in c:\\users\\nimes\\appdata\\local\\programs\\python\\python37\\lib\\site-packages (from tensorflow) (1.19.3)\n",
      "Collecting protobuf>=3.9.2\n",
      "  Downloading protobuf-3.15.1-cp37-cp37m-win_amd64.whl (904 kB)\n",
      "Collecting six~=1.15.0\n",
      "  Using cached six-1.15.0-py2.py3-none-any.whl (10 kB)\n",
      "Collecting tensorboard~=2.4\n",
      "  Downloading tensorboard-2.4.1-py3-none-any.whl (10.6 MB)\n",
      "Requirement already satisfied: werkzeug>=0.11.15 in c:\\users\\nimes\\appdata\\local\\programs\\python\\python37\\lib\\site-packages (from tensorboard~=2.4->tensorflow) (1.0.1)\n",
      "Requirement already satisfied: numpy~=1.19.2 in c:\\users\\nimes\\appdata\\local\\programs\\python\\python37\\lib\\site-packages (from tensorflow) (1.19.3)\n",
      "Requirement already satisfied: requests<3,>=2.21.0 in c:\\users\\nimes\\appdata\\local\\programs\\python\\python37\\lib\\site-packages (from tensorboard~=2.4->tensorflow) (2.25.0)\n",
      "Collecting google-auth<2,>=1.6.3\n",
      "  Downloading google_auth-1.27.0-py2.py3-none-any.whl (135 kB)\n",
      "Collecting cachetools<5.0,>=2.0.0\n",
      "  Downloading cachetools-4.2.1-py3-none-any.whl (12 kB)\n",
      "Collecting google-auth-oauthlib<0.5,>=0.4.1\n",
      "  Downloading google_auth_oauthlib-0.4.2-py2.py3-none-any.whl (18 kB)\n",
      "Collecting markdown>=2.6.8\n",
      "  Downloading Markdown-3.3.3-py3-none-any.whl (96 kB)\n",
      "Requirement already satisfied: importlib-metadata in c:\\users\\nimes\\appdata\\local\\programs\\python\\python37\\lib\\site-packages (from markdown>=2.6.8->tensorboard~=2.4->tensorflow) (3.1.1)\n",
      "Requirement already satisfied: zipp>=0.5 in c:\\users\\nimes\\appdata\\local\\programs\\python\\python37\\lib\\site-packages (from importlib-metadata->markdown>=2.6.8->tensorboard~=2.4->tensorflow) (3.4.0)\n",
      "Collecting pyasn1-modules>=0.2.1\n",
      "  Downloading pyasn1_modules-0.2.8-py2.py3-none-any.whl (155 kB)\n",
      "Collecting pyasn1<0.5.0,>=0.4.6\n",
      "  Downloading pyasn1-0.4.8-py2.py3-none-any.whl (77 kB)\n",
      "Requirement already satisfied: idna<3,>=2.5 in c:\\users\\nimes\\appdata\\local\\programs\\python\\python37\\lib\\site-packages (from requests<3,>=2.21.0->tensorboard~=2.4->tensorflow) (2.10)\n",
      "Requirement already satisfied: urllib3<1.27,>=1.21.1 in c:\\users\\nimes\\appdata\\local\\programs\\python\\python37\\lib\\site-packages (from requests<3,>=2.21.0->tensorboard~=2.4->tensorflow) (1.26.2)\n",
      "Requirement already satisfied: chardet<4,>=3.0.2 in c:\\users\\nimes\\appdata\\local\\programs\\python\\python37\\lib\\site-packages (from requests<3,>=2.21.0->tensorboard~=2.4->tensorflow) (3.0.4)\n",
      "Requirement already satisfied: certifi>=2017.4.17 in c:\\users\\nimes\\appdata\\local\\programs\\python\\python37\\lib\\site-packages (from requests<3,>=2.21.0->tensorboard~=2.4->tensorflow) (2020.12.5)\n",
      "Collecting requests-oauthlib>=0.7.0\n",
      "  Downloading requests_oauthlib-1.3.0-py2.py3-none-any.whl (23 kB)\n",
      "Requirement already satisfied: requests<3,>=2.21.0 in c:\\users\\nimes\\appdata\\local\\programs\\python\\python37\\lib\\site-packages (from tensorboard~=2.4->tensorflow) (2.25.0)\n",
      "Collecting oauthlib>=3.0.0\n",
      "  Downloading oauthlib-3.1.0-py2.py3-none-any.whl (147 kB)\n",
      "Collecting rsa<5,>=3.1.4\n",
      "  Downloading rsa-4.7.1-py3-none-any.whl (36 kB)\n",
      "Collecting setuptools>=41.0.0\n",
      "  Downloading setuptools-53.0.0-py3-none-any.whl (784 kB)\n",
      "Collecting tensorboard-plugin-wit>=1.6.0\n",
      "  Downloading tensorboard_plugin_wit-1.8.0-py3-none-any.whl (781 kB)\n",
      "Collecting tensorflow-estimator<2.5.0,>=2.4.0\n",
      "  Downloading tensorflow_estimator-2.4.0-py2.py3-none-any.whl (462 kB)\n",
      "Collecting wheel~=0.35\n",
      "  Downloading wheel-0.36.2-py2.py3-none-any.whl (35 kB)\n",
      "Collecting wrapt~=1.12.1\n",
      "  Downloading wrapt-1.12.1.tar.gz (27 kB)\n",
      "Using legacy 'setup.py install' for wrapt, since package 'wheel' is not installed.\n",
      "Installing collected packages: pyasn1, six, setuptools, rsa, pyasn1-modules, oauthlib, cachetools, requests-oauthlib, google-auth, wheel, tensorboard-plugin-wit, protobuf, markdown, grpcio, google-auth-oauthlib, absl-py, wrapt, tensorflow-estimator, tensorboard, opt-einsum, h5py, google-pasta, gast, flatbuffers, astunparse, tensorflow\n",
      "  Attempting uninstall: six\n",
      "    Found existing installation: six 1.12.0\n",
      "    Uninstalling six-1.12.0:\n",
      "      Successfully uninstalled six-1.12.0\n",
      "  Attempting uninstall: setuptools\n",
      "    Found existing installation: setuptools 39.0.1\n",
      "    Uninstalling setuptools-39.0.1:\n",
      "      Successfully uninstalled setuptools-39.0.1\n",
      "  Attempting uninstall: wrapt\n",
      "    Found existing installation: wrapt 1.11.2\n",
      "    Uninstalling wrapt-1.11.2:\n",
      "      Successfully uninstalled wrapt-1.11.2\n",
      "    Running setup.py install for wrapt: started\n",
      "    Running setup.py install for wrapt: finished with status 'done'\n",
      "  Attempting uninstall: h5py\n",
      "    Found existing installation: h5py 3.1.0\n",
      "    Uninstalling h5py-3.1.0:\n",
      "      Successfully uninstalled h5py-3.1.0\n",
      "Successfully installed absl-py-0.11.0 astunparse-1.6.3 cachetools-4.2.1 flatbuffers-1.12 gast-0.3.3 google-auth-1.27.0 google-auth-oauthlib-0.4.2 google-pasta-0.2.0 grpcio-1.32.0 h5py-2.10.0 markdown-3.3.3 oauthlib-3.1.0 opt-einsum-3.3.0 protobuf-3.15.1 pyasn1-0.4.8 pyasn1-modules-0.2.8 requests-oauthlib-1.3.0 rsa-4.7.1 setuptools-53.0.0 six-1.15.0 tensorboard-2.4.1 tensorboard-plugin-wit-1.8.0 tensorflow-2.4.1 tensorflow-estimator-2.4.0 wheel-0.36.2 wrapt-1.12.1\n"
     ]
    },
    {
     "name": "stderr",
     "output_type": "stream",
     "text": [
      "You should consider upgrading via the 'c:\\users\\nimes\\appdata\\local\\programs\\python\\python37\\python.exe -m pip install --upgrade pip' command.\n",
      "WARNING: You are using pip version 20.3.1; however, version 21.0.1 is available.\n",
      "You should consider upgrading via the 'c:\\users\\nimes\\appdata\\local\\programs\\python\\python37\\python.exe -m pip install --upgrade pip' command.\n"
     ]
    },
    {
     "name": "stdout",
     "output_type": "stream",
     "text": [
      "Requirement already satisfied: Keras in c:\\users\\nimes\\appdata\\local\\programs\\python\\python37\\lib\\site-packages (2.4.3)\n",
      "Requirement already satisfied: pyyaml in c:\\users\\nimes\\appdata\\local\\programs\\python\\python37\\lib\\site-packages (from Keras) (5.4.1)\n",
      "Requirement already satisfied: h5py in c:\\users\\nimes\\appdata\\local\\programs\\python\\python37\\lib\\site-packages (from Keras) (2.10.0)\n",
      "Requirement already satisfied: scipy>=0.14 in c:\\users\\nimes\\appdata\\local\\programs\\python\\python37\\lib\\site-packages (from Keras) (1.6.0)\n",
      "Requirement already satisfied: numpy>=1.9.1 in c:\\users\\nimes\\appdata\\local\\programs\\python\\python37\\lib\\site-packages (from Keras) (1.19.3)\n",
      "Requirement already satisfied: numpy>=1.9.1 in c:\\users\\nimes\\appdata\\local\\programs\\python\\python37\\lib\\site-packages (from Keras) (1.19.3)\n",
      "Requirement already satisfied: six in c:\\users\\nimes\\appdata\\local\\programs\\python\\python37\\lib\\site-packages (from h5py->Keras) (1.15.0)\n",
      "Requirement already satisfied: numpy>=1.9.1 in c:\\users\\nimes\\appdata\\local\\programs\\python\\python37\\lib\\site-packages (from Keras) (1.19.3)\n",
      "Requirement already satisfied: Keras-Preprocessing in c:\\users\\nimes\\appdata\\local\\programs\\python\\python37\\lib\\site-packages (1.1.2)\n",
      "Requirement already satisfied: six>=1.9.0 in c:\\users\\nimes\\appdata\\local\\programs\\python\\python37\\lib\\site-packages (from Keras-Preprocessing) (1.15.0)\n",
      "Requirement already satisfied: numpy>=1.9.1 in c:\\users\\nimes\\appdata\\local\\programs\\python\\python37\\lib\\site-packages (from Keras-Preprocessing) (1.19.3)\n"
     ]
    },
    {
     "name": "stderr",
     "output_type": "stream",
     "text": [
      "WARNING: You are using pip version 20.3.1; however, version 21.0.1 is available.\n",
      "You should consider upgrading via the 'c:\\users\\nimes\\appdata\\local\\programs\\python\\python37\\python.exe -m pip install --upgrade pip' command.\n"
     ]
    }
   ],
   "source": [
    "!pip install pandas\n",
    "!pip install numpy\n",
    "!pip install matplotlib\n",
    "!pip install seaborn\n",
    "!pip install vaderSentiment\n",
    "!pip install networkx\n",
    "!pip install regex\n",
    "!pip install collection\n",
    "!pip install collections-extended\n",
    "!pip install more-itertools\n",
    "!pip install re2\n",
    "!pip install nltk\n",
    "!pip install wordcloud\n",
    "!pip install tensorflow\n",
    "!pip install Keras\n",
    "!pip install Keras-Preprocessing"
   ]
  }
 ],
 "metadata": {
  "kernelspec": {
   "display_name": "Python 3",
   "language": "python",
   "name": "python3"
  },
  "language_info": {
   "codemirror_mode": {
    "name": "ipython",
    "version": 3
   },
   "file_extension": ".py",
   "mimetype": "text/x-python",
   "name": "python",
   "nbconvert_exporter": "python",
   "pygments_lexer": "ipython3",
   "version": "3.7.0"
  }
 },
 "nbformat": 4,
 "nbformat_minor": 4
}
